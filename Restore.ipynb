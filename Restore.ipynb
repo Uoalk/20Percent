{
 "cells": [
  {
   "cell_type": "code",
   "execution_count": 2,
   "metadata": {},
   "outputs": [
    {
     "name": "stdout",
     "output_type": "stream",
     "text": [
      "INFO:tensorflow:Restoring parameters from C:\\Users\\UnLink\\Documents\\GitHub\\20Percent\\mod\n"
     ]
    }
   ],
   "source": [
    "from __future__ import absolute_import, division, print_function\n",
    "\n",
    "import pathlib\n",
    "\n",
    "import pandas as pd\n",
    "import seaborn as sns\n",
    "\n",
    "import tensorflow as tf\n",
    "from tensorflow import keras\n",
    "from tensorflow.keras import layers\n",
    "from tensorflow.python.saved_model import tag_constants\n",
    "\n",
    "with tf.Session() as sess:\n",
    "    new_saver = tf.train.import_meta_graph('mod.meta')\n",
    "    new_saver.restore(sess, tf.train.latest_checkpoint(''))"
   ]
  },
  {
   "cell_type": "code",
   "execution_count": 5,
   "metadata": {},
   "outputs": [
    {
     "name": "stdout",
     "output_type": "stream",
     "text": [
      "INFO:tensorflow:Restoring parameters from C:\\Users\\UnLink\\Documents\\GitHub\\20Percent\\mod\n"
     ]
    }
   ],
   "source": [
    "with tf.Session() as sess:\n",
    "    new_saver = tf.train.import_meta_graph('mod.meta')\n",
    "    new_saver.restore(sess, tf.train.latest_checkpoint(''))\n",
    "   "
   ]
  },
  {
   "cell_type": "code",
   "execution_count": 7,
   "metadata": {},
   "outputs": [],
   "source": [
    "model = keras.models.load_model('test.h5')"
   ]
  },
  {
   "cell_type": "code",
   "execution_count": 9,
   "metadata": {},
   "outputs": [
    {
     "name": "stdout",
     "output_type": "stream",
     "text": [
      "_________________________________________________________________\n",
      "Layer (type)                 Output Shape              Param #   \n",
      "=================================================================\n",
      "dense (Dense)                (None, 64)                1984      \n",
      "_________________________________________________________________\n",
      "dense_1 (Dense)              (None, 64)                4160      \n",
      "_________________________________________________________________\n",
      "dense_2 (Dense)              (None, 3)                 195       \n",
      "=================================================================\n",
      "Total params: 6,339\n",
      "Trainable params: 6,339\n",
      "Non-trainable params: 0\n",
      "_________________________________________________________________\n"
     ]
    }
   ],
   "source": [
    "model.summary()"
   ]
  },
  {
   "cell_type": "code",
   "execution_count": null,
   "metadata": {},
   "outputs": [
    {
     "name": "stdout",
     "output_type": "stream",
     "text": [
      "Play : r\n",
      "p\n",
      "[0, 0, 1]\n"
     ]
    }
   ],
   "source": [
    "lastPlays = [0]*30\n",
    "wtl = [0,0,0]\n",
    "inp = ''\n",
    "comp = ''\n",
    "while inp != 'q':\n",
    "    f = open(\"test.csv\",\"w\")\n",
    "    f.write(str(lastPlays)[1:-1])\n",
    "    f.flush()\n",
    "    inp = input('Play : ')\n",
    "    play_dataset = pd.read_csv('test.csv', names=['P1.1r', 'P1.1p', 'P1.1s', 'P2.1r', 'P2.1p', 'P2.1s', 'P1.2r', 'P1.2p', 'P1.2s', 'P2.2r', 'P2.2p', 'P2.2s', 'P1.3r', 'P1.3p', 'P1.3s', 'P2.3r', 'P2.3p', 'P2.3s', 'P1.4r', 'P1.4p', 'P1.4s', 'P2.4r', 'P2.4p', 'P2.4s', 'P1.5r', 'P1.5p', 'P1.5s', 'P2.5r', 'P2.5p', 'P2.5s'], na_values = '?', sep=',')\n",
    "    pred = model.predict(play_dataset)\n",
    "    if pred[0][0] > pred[0][1] and pred[0][0] > pred[0][2]:\n",
    "        comp = 'r'\n",
    "    elif pred[0][1] > pred[0][0] and pred[0][1] > pred[0][2]:\n",
    "        comp = 'p'\n",
    "    elif pred[0][2] > pred[0][0] and pred[0][2] > pred[0][1]:\n",
    "        comp = 's'\n",
    "    tempOut = []\n",
    "    if inp == 'r':\n",
    "        tempOut = [1,0,0]\n",
    "    elif inp == 'p':\n",
    "        tempOut = [0,1,0]\n",
    "    elif inp == 's':\n",
    "        tempOut = [0,0,1]\n",
    "    if comp == 'r':\n",
    "        tempOut = tempOut + [1,0,0]\n",
    "    elif comp == 'p':\n",
    "        tempOut = tempOut +[0,1,0]\n",
    "    elif comp == '2':\n",
    "        tempOut = tempOut + [0,0,1]\n",
    "    if inp == comp:\n",
    "        wtl[1] += 1\n",
    "    elif inp == 'r':\n",
    "        if comp == 'p':\n",
    "            wtl[2] += 1\n",
    "        else:\n",
    "            wtl[0] += 1\n",
    "    elif inp == 'p':\n",
    "        if comp == 's':\n",
    "            wtl[2] += 1\n",
    "        else:\n",
    "            wtl[0] += 1\n",
    "    elif inp == 's':\n",
    "        if comp == 'r':\n",
    "            wtl[2] += 1\n",
    "        else:\n",
    "            wtl[0] += 1\n",
    "    print(comp)\n",
    "    print(wtl)\n",
    "    lastPlays = tempOut + lastPlays[:24]"
   ]
  }
 ],
 "metadata": {
  "kernelspec": {
   "display_name": "Python 3",
   "language": "python",
   "name": "python3"
  },
  "language_info": {
   "codemirror_mode": {
    "name": "ipython",
    "version": 3
   },
   "file_extension": ".py",
   "mimetype": "text/x-python",
   "name": "python",
   "nbconvert_exporter": "python",
   "pygments_lexer": "ipython3",
   "version": "3.6.8"
  }
 },
 "nbformat": 4,
 "nbformat_minor": 2
}
