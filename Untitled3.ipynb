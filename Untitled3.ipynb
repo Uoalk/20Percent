{
 "cells": [
  {
   "cell_type": "code",
   "execution_count": null,
   "metadata": {},
   "outputs": [],
   "source": [
    "from __future__ import absolute_import, division, print_function\n",
    "\n",
    "import pathlib\n",
    "\n",
    "import pandas as pd\n",
    "import seaborn as sns\n",
    "\n",
    "import tensorflow as tf\n",
    "from tensorflow import keras\n",
    "from tensorflow.keras import layers\n",
    "from tensorflow.python.saved_model import tag_constants\n",
    "\n",
    "column_names = ['P1.1r', 'P1.1p', 'P1.1s', 'P2.1r', 'P2.1p', 'P2.1s', 'P1.2r', 'P1.2p', 'P1.2s', 'P2.2r', 'P2.2p', 'P2.2s', 'P1.3r', 'P1.3p', 'P1.3s', 'P2.3r', 'P2.3p', 'P2.3s', 'P1.4r', 'P1.4p', 'P1.4s', 'P2.4r', 'P2.4p', 'P2.4s', 'P1.5r', 'P1.5p', 'P1.5s', 'P2.5r', 'P2.5p', 'P2.5s', 'R.r', 'R.p', 'R.s']\n",
    "raw_dataset = pd.read_csv('oneHot.csv', names=column_names, na_values = \"?\", sep=\",\")\n",
    "\n",
    "train_dataset = raw_dataset.copy()\n",
    "train_label = raw_dataset.copy()\n",
    "\n",
    "train_dataset.pop('R.r')\n",
    "train_dataset.pop('R.p')\n",
    "train_dataset.pop('R.s')\n",
    "\n",
    "train_label.pop('P1.1r')\n",
    "train_label.pop('P1.1p')\n",
    "train_label.pop('P1.1s')\n",
    "train_label.pop('P2.1r')\n",
    "train_label.pop('P2.1p')\n",
    "train_label.pop('P2.1s')\n",
    "\n",
    "train_label.pop('P1.2r')\n",
    "train_label.pop('P1.2p')\n",
    "train_label.pop('P1.2s')\n",
    "train_label.pop('P2.2r')\n",
    "train_label.pop('P2.2p')\n",
    "train_label.pop('P2.2s')\n",
    "\n",
    "train_label.pop('P1.3r')\n",
    "train_label.pop('P1.3p')\n",
    "train_label.pop('P1.3s')\n",
    "train_label.pop('P2.3r')\n",
    "train_label.pop('P2.3p')\n",
    "train_label.pop('P2.3s')\n",
    "\n",
    "train_label.pop('P1.4r')\n",
    "train_label.pop('P1.4p')\n",
    "train_label.pop('P1.4s')\n",
    "train_label.pop('P2.4r')\n",
    "train_label.pop('P2.4p')\n",
    "train_label.pop('P2.4s')\n",
    "\n",
    "train_label.pop('P1.5r')\n",
    "train_label.pop('P1.5p')\n",
    "train_label.pop('P1.5s')\n",
    "train_label.pop('P2.5r')\n",
    "train_label.pop('P2.5p')\n",
    "train_label.pop('P2.5s')\n",
    "\n",
    "def build_model():\n",
    "  model = keras.Sequential([\n",
    "    layers.Dense(64, activation=tf.nn.relu, input_shape=[len(train_dataset.keys())]),\n",
    "    layers.Dense(64, activation=tf.nn.relu),\n",
    "    layers.Dense(3)\n",
    "  ])\n",
    "\n",
    "  optimizer = tf.keras.optimizers.RMSprop(0.001)\n",
    "\n",
    "  model.compile(loss='mse',\n",
    "                optimizer=optimizer,\n",
    "                metrics=['mae', 'mse'])\n",
    "  return model\n",
    "\n",
    "class PrintDot(keras.callbacks.Callback):\n",
    "  def on_epoch_end(self, epoch, logs):\n",
    "    if epoch % 100 == 0: print('')\n",
    "    print('.', end='')\n",
    "\n",
    "model = build_model()\n",
    "\n",
    "EPOCHS = 1000\n",
    "\n",
    "early_stop = keras.callbacks.EarlyStopping(monitor='val_loss', patience=10)\n",
    "\n",
    "history = model.fit(train_dataset, train_label, epochs=EPOCHS, validation_split = 0.2, verbose=0, callbacks=[early_stop, PrintDot()])\n",
    "\n",
    "lastPlays = [0]*30\n",
    "wtl = [0,0,0]\n",
    "inp = ''\n",
    "comp = ''\n",
    "while inp != 'q':\n",
    "    f = open(\"test.csv\",\"w\")\n",
    "    f.write(str(lastPlays)[1:-1])\n",
    "    f.flush()\n",
    "    inp = input('Play : ')\n",
    "    play_dataset = pd.read_csv('test.csv', names=['P1.1r', 'P1.1p', 'P1.1s', 'P2.1r', 'P2.1p', 'P2.1s', 'P1.2r', 'P1.2p', 'P1.2s', 'P2.2r', 'P2.2p', 'P2.2s', 'P1.3r', 'P1.3p', 'P1.3s', 'P2.3r', 'P2.3p', 'P2.3s', 'P1.4r', 'P1.4p', 'P1.4s', 'P2.4r', 'P2.4p', 'P2.4s', 'P1.5r', 'P1.5p', 'P1.5s', 'P2.5r', 'P2.5p', 'P2.5s'], na_values = '?', sep=',')\n",
    "    pred = model.predict(play_dataset)\n",
    "    pred[0]\n",
    "    comp = input('Comp : ')\n",
    "    tempOut = []\n",
    "    if inp == 'r':\n",
    "        tempOut = [1,0,0]\n",
    "    elif inp == 'p':\n",
    "        tempOut = [0,1,0]\n",
    "    elif inp == 's':\n",
    "        tempOut = [0,0,1]\n",
    "    if comp == 'r':\n",
    "        tempOut = tempOut + [1,0,0]\n",
    "    elif comp == 'p':\n",
    "        tempOut = tempOut +[0,1,0]\n",
    "    elif comp == '2':\n",
    "        tempOut = tempOut + [0,0,1]\n",
    "    lastPlays = tempOut + lastPlays[:24]"
   ]
  },
  {
   "cell_type": "code",
   "execution_count": 2,
   "metadata": {},
   "outputs": [
    {
     "data": {
      "text/plain": [
       "array([[0.32612318, 0.3785586 , 0.2925598 ]], dtype=float32)"
      ]
     },
     "execution_count": 2,
     "metadata": {},
     "output_type": "execute_result"
    }
   ],
   "source": [
    "pred"
   ]
  },
  {
   "cell_type": "code",
   "execution_count": 3,
   "metadata": {},
   "outputs": [
    {
     "data": {
      "text/plain": [
       "array([0.32612318, 0.3785586 , 0.2925598 ], dtype=float32)"
      ]
     },
     "execution_count": 3,
     "metadata": {},
     "output_type": "execute_result"
    }
   ],
   "source": [
    "pred[0]"
   ]
  },
  {
   "cell_type": "code",
   "execution_count": 4,
   "metadata": {},
   "outputs": [
    {
     "data": {
      "text/plain": [
       "0.3785586"
      ]
     },
     "execution_count": 4,
     "metadata": {},
     "output_type": "execute_result"
    }
   ],
   "source": [
    "pred[0][1]"
   ]
  },
  {
   "cell_type": "code",
   "execution_count": 5,
   "metadata": {},
   "outputs": [
    {
     "data": {
      "text/plain": [
       "'p'"
      ]
     },
     "execution_count": 5,
     "metadata": {},
     "output_type": "execute_result"
    }
   ],
   "source": [
    "if pred[0][0] > pred[0][1] and pred[0][0] > pred[0][2]:\n",
    "    comp = 'r'\n",
    "elif pred[0][1] > pred[0][0] and pred[0][1] > pred[0][2]:\n",
    "    comp = 'p'\n",
    "elif pred[0][2] > pred[0][0] and pred[0][2] > pred[0][1]:\n",
    "    comp = 's'\n",
    "comp"
   ]
  },
  {
   "cell_type": "code",
   "execution_count": null,
   "metadata": {},
   "outputs": [
    {
     "name": "stdout",
     "output_type": "stream",
     "text": [
      "Play : r\n",
      "Comp : p\n"
     ]
    }
   ],
   "source": [
    "lastPlays = [0]*30\n",
    "wtl = [0,0,0]\n",
    "inp = ''\n",
    "comp = ''\n",
    "while inp != 'q':\n",
    "    f = open(\"test.csv\",\"w\")\n",
    "    f.write(str(lastPlays)[1:-1])\n",
    "    f.flush()\n",
    "    inp = input('Play : ')\n",
    "    play_dataset = pd.read_csv('test.csv', names=['P1.1r', 'P1.1p', 'P1.1s', 'P2.1r', 'P2.1p', 'P2.1s', 'P1.2r', 'P1.2p', 'P1.2s', 'P2.2r', 'P2.2p', 'P2.2s', 'P1.3r', 'P1.3p', 'P1.3s', 'P2.3r', 'P2.3p', 'P2.3s', 'P1.4r', 'P1.4p', 'P1.4s', 'P2.4r', 'P2.4p', 'P2.4s', 'P1.5r', 'P1.5p', 'P1.5s', 'P2.5r', 'P2.5p', 'P2.5s'], na_values = '?', sep=',')\n",
    "    pred = model.predict(play_dataset)\n",
    "    pred[0]\n",
    "    comp = input('Comp : ')\n",
    "    tempOut = []\n",
    "    if inp == 'r':\n",
    "        tempOut = [1,0,0]\n",
    "    elif inp == 'p':\n",
    "        tempOut = [0,1,0]\n",
    "    elif inp == 's':\n",
    "        tempOut = [0,0,1]\n",
    "    if comp == 'r':\n",
    "        tempOut = tempOut + [1,0,0]\n",
    "    elif comp == 'p':\n",
    "        tempOut = tempOut +[0,1,0]\n",
    "    elif comp == '2':\n",
    "        tempOut = tempOut + [0,0,1]\n",
    "    lastPlays = tempOut + lastPlays[:24]"
   ]
  },
  {
   "cell_type": "code",
   "execution_count": null,
   "metadata": {},
   "outputs": [],
   "source": []
  },
  {
   "cell_type": "code",
   "execution_count": null,
   "metadata": {},
   "outputs": [],
   "source": [
    "lastPlays = [0]*30\n",
    "wtl = [0,0,0]\n",
    "inp = ''\n",
    "comp = ''\n",
    "while inp != 'q':\n",
    "    f = open(\"test.csv\",\"w\")\n",
    "    f.write(str(lastPlays)[1:-1])\n",
    "    f.flush()\n",
    "    inp = input('Play : ')\n",
    "    play_dataset = pd.read_csv('test.csv', names=['P1.1r', 'P1.1p', 'P1.1s', 'P2.1r', 'P2.1p', 'P2.1s', 'P1.2r', 'P1.2p', 'P1.2s', 'P2.2r', 'P2.2p', 'P2.2s', 'P1.3r', 'P1.3p', 'P1.3s', 'P2.3r', 'P2.3p', 'P2.3s', 'P1.4r', 'P1.4p', 'P1.4s', 'P2.4r', 'P2.4p', 'P2.4s', 'P1.5r', 'P1.5p', 'P1.5s', 'P2.5r', 'P2.5p', 'P2.5s'], na_values = '?', sep=',')\n",
    "    pred = model.predict(play_dataset)\n",
    "    if pred[0][0] > pred[0][1] and pred[0][0] > pred[0][2]:\n",
    "        comp = 'r'\n",
    "    elif pred[0][1] > pred[0][0] and pred[0][1] > pred[0][2]:\n",
    "        comp = 'p'\n",
    "    elif pred[0][2] > pred[0][0] and pred[0][2] > pred[0][1]:\n",
    "        comp = 's'\n",
    "    tempOut = []\n",
    "    if inp == 'r':\n",
    "        tempOut = [1,0,0]\n",
    "    elif inp == 'p':\n",
    "        tempOut = [0,1,0]\n",
    "    elif inp == 's':\n",
    "        tempOut = [0,0,1]\n",
    "    if comp == 'r':\n",
    "        tempOut = tempOut + [1,0,0]\n",
    "    elif comp == 'p':\n",
    "        tempOut = tempOut +[0,1,0]\n",
    "    elif comp == '2':\n",
    "        tempOut = tempOut + [0,0,1]\n",
    "    if inp == comp:\n",
    "        wtl[1] += 1\n",
    "    elif inp == 'r':\n",
    "        if comp == 'p':\n",
    "            wtl[2] += 1\n",
    "        else:\n",
    "            wtl[0] += 1\n",
    "    elif inp == 'p':\n",
    "        if comp == 's':\n",
    "            wtl[2] += 1\n",
    "        else:\n",
    "            wtl[0] += 1\n",
    "    elif inp == 's':\n",
    "        if comp == 'r':\n",
    "            wtl[2] += 1\n",
    "        else:\n",
    "            wtl[0] += 1\n",
    "    wtl\n",
    "    lastPlays = tempOut + lastPlays[:24]"
   ]
  },
  {
   "cell_type": "code",
   "execution_count": null,
   "metadata": {},
   "outputs": [],
   "source": []
  },
  {
   "cell_type": "code",
   "execution_count": null,
   "metadata": {},
   "outputs": [],
   "source": [
    "lastPlays = [0]*30\n",
    "wtl = [0,0,0]\n",
    "inp = ''\n",
    "comp = ''\n",
    "while inp != 'q':\n",
    "    f = open(\"test.csv\",\"w\")\n",
    "    f.write(str(lastPlays)[1:-1])\n",
    "    f.flush()\n",
    "    inp = input('Play : ')\n",
    "    play_dataset = pd.read_csv('test.csv', names=['P1.1r', 'P1.1p', 'P1.1s', 'P2.1r', 'P2.1p', 'P2.1s', 'P1.2r', 'P1.2p', 'P1.2s', 'P2.2r', 'P2.2p', 'P2.2s', 'P1.3r', 'P1.3p', 'P1.3s', 'P2.3r', 'P2.3p', 'P2.3s', 'P1.4r', 'P1.4p', 'P1.4s', 'P2.4r', 'P2.4p', 'P2.4s', 'P1.5r', 'P1.5p', 'P1.5s', 'P2.5r', 'P2.5p', 'P2.5s'], na_values = '?', sep=',')\n",
    "    pred = model.predict(play_dataset)\n",
    "    if pred[0][0] > pred[0][1] and pred[0][0] > pred[0][2]:\n",
    "        comp = 'r'\n",
    "    elif pred[0][1] > pred[0][0] and pred[0][1] > pred[0][2]:\n",
    "        comp = 'p'\n",
    "    elif pred[0][2] > pred[0][0] and pred[0][2] > pred[0][1]:\n",
    "        comp = 's'\n",
    "    tempOut = []\n",
    "    if inp == 'r':\n",
    "        tempOut = [1,0,0]\n",
    "    elif inp == 'p':\n",
    "        tempOut = [0,1,0]\n",
    "    elif inp == 's':\n",
    "        tempOut = [0,0,1]\n",
    "    if comp == 'r':\n",
    "        tempOut = tempOut + [1,0,0]\n",
    "    elif comp == 'p':\n",
    "        tempOut = tempOut +[0,1,0]\n",
    "    elif comp == '2':\n",
    "        tempOut = tempOut + [0,0,1]\n",
    "    if inp == comp:\n",
    "        wtl[1] += 1\n",
    "    elif inp == 'r':\n",
    "        if comp == 'p':\n",
    "            wtl[2] += 1\n",
    "        else:\n",
    "            wtl[0] += 1\n",
    "    elif inp == 'p':\n",
    "        if comp == 's':\n",
    "            wtl[2] += 1\n",
    "        else:\n",
    "            wtl[0] += 1\n",
    "    elif inp == 's':\n",
    "        if comp == 'r':\n",
    "            wtl[2] += 1\n",
    "        else:\n",
    "            wtl[0] += 1\n",
    "    wtl\n",
    "    lastPlays = tempOut + lastPlays[:24]"
   ]
  },
  {
   "cell_type": "code",
   "execution_count": null,
   "metadata": {},
   "outputs": [],
   "source": []
  }
 ],
 "metadata": {
  "kernelspec": {
   "display_name": "Python 3",
   "language": "python",
   "name": "python3"
  },
  "language_info": {
   "codemirror_mode": {
    "name": "ipython",
    "version": 3
   },
   "file_extension": ".py",
   "mimetype": "text/x-python",
   "name": "python",
   "nbconvert_exporter": "python",
   "pygments_lexer": "ipython3",
   "version": "3.6.8"
  }
 },
 "nbformat": 4,
 "nbformat_minor": 2
}
